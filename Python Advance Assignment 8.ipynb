{
 "cells": [
  {
   "cell_type": "code",
   "execution_count": null,
   "id": "c03ded57-d8b1-4ab6-a9eb-056fa6a4fe6c",
   "metadata": {},
   "outputs": [],
   "source": [
    "#1.  What are the two latest user-defined exception constraints in Python 3.X?\n",
    "\n",
    "Ans. raise and assert are the two latest user-defined exception constraints in Python 3.X"
   ]
  },
  {
   "cell_type": "code",
   "execution_count": null,
   "id": "2ec6116a-179f-4cb2-ac80-60aae9005762",
   "metadata": {},
   "outputs": [],
   "source": [
    "#2.  How are class-based exceptions that have been raised matched to handlers?\n",
    "\n",
    "Ans.  In python, Users can define custom exceptions by creating a new class. This exception class has to be derived, either directly or indirectly from built-in Exception class. \n",
    "This new exception class like other exceptions can be raised using the raise statement with an optional error message."
   ]
  },
  {
   "cell_type": "code",
   "execution_count": null,
   "id": "86f790b2-5ecd-4c63-bf37-0a5847285c6d",
   "metadata": {},
   "outputs": [],
   "source": [
    "#3. Describe two methods for attaching context information to exception artefacts ?\n",
    "\n",
    "Ans. The process() method of LoggerAdapter is where the contextual information is added to the logging output. \n",
    "its passes the message and keyword arguments of the logging call, and it passes back modified versions of these to use in the call to the underlying logger.\n",
    "\n",
    "Other method that can be used is exception(), Logs a messgae with level ERROR on this logger. \n",
    "The arguments are interpreted as for debug(). Exception info is added to the logging message."
   ]
  },
  {
   "cell_type": "code",
   "execution_count": null,
   "id": "90348799-6924-4b1a-b6a5-0f774c224026",
   "metadata": {},
   "outputs": [],
   "source": [
    "#4. Describe two methods for specifying the text of an exception object's error message ?\n",
    "\n",
    "Ans. raise and assert are two methods for specifying the text of an exception object's error message.raise statement is used to trigger explicit exception, if certain condition is not as per requirement of programmer. \n",
    "it helps in triggering exception as per need of programmer and logic.\n",
    "\n",
    "There are few assertions that programmer always want to be True to avoid code failure. This type of requirment is fullfilled by assert statement. This statement takes a Boolean Condition output of which if True, further program executes. \n",
    "if output of assert statement is False it raises an Assertion Error."
   ]
  },
  {
   "cell_type": "code",
   "execution_count": null,
   "id": "471e59a9-6034-4b17-8f33-ea84e4ca61ac",
   "metadata": {},
   "outputs": [],
   "source": [
    "#5. Why do you no longer use string-based exceptions?\n",
    "\n",
    "Ans. String-based Exceptions doesn't inherit from Exceptions. so plain exceptions catch all exceptions and not only system."
   ]
  }
 ],
 "metadata": {
  "kernelspec": {
   "display_name": "Python 3 (ipykernel)",
   "language": "python",
   "name": "python3"
  },
  "language_info": {
   "codemirror_mode": {
    "name": "ipython",
    "version": 3
   },
   "file_extension": ".py",
   "mimetype": "text/x-python",
   "name": "python",
   "nbconvert_exporter": "python",
   "pygments_lexer": "ipython3",
   "version": "3.10.6"
  }
 },
 "nbformat": 4,
 "nbformat_minor": 5
}
